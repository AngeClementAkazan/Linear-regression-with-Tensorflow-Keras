{
  "nbformat": 4,
  "nbformat_minor": 0,
  "metadata": {
    "colab": {
      "provenance": [],
      "authorship_tag": "ABX9TyNDYkQvCZFs6/pD8ESbhrH5",
      "include_colab_link": true
    },
    "kernelspec": {
      "name": "python3",
      "display_name": "Python 3"
    },
    "language_info": {
      "name": "python"
    }
  },
  "cells": [
    {
      "cell_type": "markdown",
      "metadata": {
        "id": "view-in-github",
        "colab_type": "text"
      },
      "source": [
        "<a href=\"https://colab.research.google.com/github/AngeClementAkazan/Linear-regression-with-Tensorflo-Keras/blob/main/Linear_Regression.ipynb\" target=\"_parent\"><img src=\"https://colab.research.google.com/assets/colab-badge.svg\" alt=\"Open In Colab\"/></a>"
      ]
    },
    {
      "cell_type": "code",
      "execution_count": 43,
      "metadata": {
        "id": "JQN3GcKPOF6k"
      },
      "outputs": [],
      "source": [
        "#Import library\n",
        "import tensorflow as tf"
      ]
    },
    {
      "cell_type": "code",
      "source": [
        "#Other library\n",
        "import numpy as np\n",
        "import matplotlib.pyplot as plt\n",
        "import pandas as pd"
      ],
      "metadata": {
        "id": "krCK7Q2-OyCg"
      },
      "execution_count": 44,
      "outputs": []
    },
    {
      "cell_type": "code",
      "source": [
        "#Get data\n",
        "# !wget https://raw.githubusercontent.com/lazyprogrammer/machine_learning_examples/master/tf2.0/moore.csv"
      ],
      "metadata": {
        "colab": {
          "base_uri": "https://localhost:8080/"
        },
        "id": "1vTCJKX_PC5C",
        "outputId": "9f4afa2d-e055-404e-e13e-fd7412f958a6"
      },
      "execution_count": null,
      "outputs": [
        {
          "output_type": "stream",
          "name": "stdout",
          "text": [
            "--2023-02-08 14:07:16--  https://raw.githubusercontent.com/lazyprogrammer/machine_learning_examples/master/tf2.0/moore.csv\n",
            "Resolving raw.githubusercontent.com (raw.githubusercontent.com)... 185.199.110.133, 185.199.109.133, 185.199.108.133, ...\n",
            "Connecting to raw.githubusercontent.com (raw.githubusercontent.com)|185.199.110.133|:443... connected.\n",
            "HTTP request sent, awaiting response... 200 OK\n",
            "Length: 2302 (2.2K) [text/plain]\n",
            "Saving to: ‘moore.csv.2’\n",
            "\n",
            "\rmoore.csv.2           0%[                    ]       0  --.-KB/s               \rmoore.csv.2         100%[===================>]   2.25K  --.-KB/s    in 0s      \n",
            "\n",
            "2023-02-08 14:07:16 (35.0 MB/s) - ‘moore.csv.2’ saved [2302/2302]\n",
            "\n"
          ]
        }
      ]
    },
    {
      "cell_type": "code",
      "source": [
        "#Load data\n",
        "dta=pd.read_csv('moore.csv',header=None).to_numpy()\n"
      ],
      "metadata": {
        "id": "wwQrEBNrPC95"
      },
      "execution_count": 45,
      "outputs": []
    },
    {
      "cell_type": "code",
      "source": [
        "X=dta[:,0].reshape(-1,1) #Making 2D array\n",
        "Y=dta[:,1]"
      ],
      "metadata": {
        "id": "Jv0jNItbPDAa"
      },
      "execution_count": 46,
      "outputs": []
    },
    {
      "cell_type": "code",
      "source": [
        "#Plot the data\n",
        "plt.scatter(X,Y);\n"
      ],
      "metadata": {
        "id": "I3xKx3DaRL3Z"
      },
      "execution_count": null,
      "outputs": []
    },
    {
      "cell_type": "code",
      "source": [
        "#The result looks like an exponential growth, therefore, to stdy this data one can apply log to the Y and transform into a linear regression study\n",
        "Y=np.log(Y)\n",
        "plt.scatter(X,Y);"
      ],
      "metadata": {
        "id": "yczM42DGTIjW"
      },
      "execution_count": null,
      "outputs": []
    },
    {
      "cell_type": "code",
      "source": [
        "#To reduce the input\n",
        "X=X-X.mean()"
      ],
      "metadata": {
        "id": "gDZSSa98TIm7"
      },
      "execution_count": 50,
      "outputs": []
    },
    {
      "cell_type": "code",
      "source": [
        "#Building model\n",
        "model= tf.keras.models.Sequential( [tf.keras.layers.Input(shape=(1,)), #the model an\n",
        "                      tf.keras.layers.Dense(1)]\n",
        "                                 )\n",
        "# model=tf.keras.models.Sequential()\n",
        "# model.add(tf.keras.layers.Dense(1,input_shape=(1,), ))"
      ],
      "metadata": {
        "id": "_y9XnRsrTIrz"
      },
      "execution_count": 51,
      "outputs": []
    },
    {
      "cell_type": "code",
      "source": [
        "#We customize the optimizer to avoid issues in the training because we did not scale the input data\n",
        "model.compile(\n",
        "    optimizer=tf.keras.optimizers.SGD(0.001,0.9),\n",
        "    loss='mse',\n",
        "\n",
        ")"
      ],
      "metadata": {
        "id": "qr1EmaVAWySm"
      },
      "execution_count": 52,
      "outputs": []
    },
    {
      "cell_type": "markdown",
      "source": [
        "# Define function to select Learning rate"
      ],
      "metadata": {
        "id": "cH3BcnisigPv"
      }
    },
    {
      "cell_type": "code",
      "source": [
        "#Define Scheduled learning rate\n",
        "\n",
        "def schedule(epoch,lr):\n",
        "  if epoch>= 50:\n",
        "    return 0.0001\n",
        "  return 0.001\n",
        "#Define the learning rate scheduler object\n",
        "scheduler=tf.keras.callbacks.LearningRateScheduler(schedule)\n",
        "\n",
        "##Define a scheduler learning between 1e-5 and 1e-3\n",
        "# lr_schedule = tf.keras.callbacks.LearningRateScheduler(\n",
        "#     lambda epoch: 1e-5 * 10**(epoch/20)\n",
        "# )\n",
        "\n",
        "# model.compile(loss= 'mse', optimizer=tf.keras.optimizers.SGD(1e-8, momentum=0.9))\n",
        "\n",
        "#Plot the loss function with the learning rate\n",
        "##Fitting model\n",
        "# r = model.fit(X,Y, epochs= 200, callbacks=[lr_schedule], verbose=0)\n",
        "\n",
        "## loss function vs learning rate to choose the lower smoother learning rate\n",
        "# lrs = 1e-5 * (10**(np.arange(200)/20))\n",
        "# plt.semilogx(lrs, r.history['loss'])\n",
        "# plt.axis([1e-5, 1e-2, 0 , 300]);"
      ],
      "metadata": {
        "id": "rSHeQ4DXWyWf"
      },
      "execution_count": 53,
      "outputs": []
    },
    {
      "cell_type": "code",
      "source": [
        "#Fitting model\n",
        "r = model.fit(X,Y, epochs= 200, callbacks=[scheduler], verbose=0)"
      ],
      "metadata": {
        "id": "8m4Bhk-xXtqj"
      },
      "execution_count": 54,
      "outputs": []
    },
    {
      "cell_type": "code",
      "source": [
        "#Plotting loss function / epochs\n",
        "plt.plot(r.history['loss'], label='loss')\n",
        "plt.legend();"
      ],
      "metadata": {
        "id": "Ry8R9gzRXt2G"
      },
      "execution_count": null,
      "outputs": []
    },
    {
      "cell_type": "code",
      "source": [
        "#Access to the model parameters\n",
        "model.layers\n",
        "\n",
        "#Getting weights\n",
        "model.layers[0].get_weights()"
      ],
      "metadata": {
        "colab": {
          "base_uri": "https://localhost:8080/"
        },
        "id": "8CbeSpqYllqz",
        "outputId": "5f049eae-ba6c-42df-ead4-c13d8eb8bc17"
      },
      "execution_count": 57,
      "outputs": [
        {
          "output_type": "execute_result",
          "data": {
            "text/plain": [
              "[array([[0.3393375]], dtype=float32), array([17.759106], dtype=float32)]"
            ]
          },
          "metadata": {},
          "execution_count": 57
        }
      ]
    },
    {
      "cell_type": "code",
      "source": [
        "#Getting slope and intercept\n",
        "print(\"slope={}\".format(model.layers[0].get_weights()[0][0,0]))\n",
        "print(\"intercept={}\".format(model.layers[0].get_weights()[1][0]))"
      ],
      "metadata": {
        "colab": {
          "base_uri": "https://localhost:8080/"
        },
        "id": "EAQeTFdflluN",
        "outputId": "94f9cc50-1561-40a5-f8e8-b0e3763dfc31"
      },
      "execution_count": 61,
      "outputs": [
        {
          "output_type": "stream",
          "name": "stdout",
          "text": [
            "slope=0.3393374979496002\n",
            "intercept=17.759105682373047\n"
          ]
        }
      ]
    },
    {
      "cell_type": "code",
      "source": [],
      "metadata": {
        "id": "jEiN8Lwbllxp"
      },
      "execution_count": null,
      "outputs": []
    }
  ]
}